{
 "cells": [
  {
   "cell_type": "markdown",
   "id": "62cbce29-2d07-4f43-860c-f9e77305759c",
   "metadata": {},
   "source": [
    "# Data Science Tools and Ecosystem"
   ]
  },
  {
   "cell_type": "markdown",
   "id": "fdec4d08-ff72-4397-b89f-07492a4f0821",
   "metadata": {},
   "source": [
    "# Introduction\n",
    "In this notebook, Data Science Tools and Ecosystem are summarized.\n"
   ]
  },
  {
   "cell_type": "markdown",
   "id": "8858f742-38cb-44ee-81fb-f64a7703c096",
   "metadata": {},
   "source": [
    "## Popular Data Science Languages\n",
    "Some of the popular languages that Data Scientists use are:\n",
    "1. Python\n",
    "2. R\n",
    "3. SQL\n",
    "4. Julia\n",
    "5. Scala\n"
   ]
  },
  {
   "cell_type": "markdown",
   "id": "6a7d3a18-81f5-4670-8a30-4630ddfd6f07",
   "metadata": {},
   "source": [
    "## Commonly Used Data Science Libraries\n",
    "Some of the commonly used libraries used by Data Scientists include:\n",
    "1. NumPy\n",
    "2. Pandas\n",
    "3. Matplotlib\n",
    "4. Scikit-learn\n",
    "5. TensorFlow\n"
   ]
  },
  {
   "cell_type": "markdown",
   "id": "ba66f57f-43ed-4087-9aa5-0402b5cf1b67",
   "metadata": {},
   "source": [
    "## Data Science Tools\n",
    "| Data Science Tools       |\n",
    "|--------------------------|\n",
    "| Jupyter Notebook         |\n",
    "| RStudio                  |\n",
    "| Apache Zeppelin          |\n"
   ]
  },
  {
   "cell_type": "markdown",
   "id": "f6aaaaff-4c6e-458a-88e5-edc4a36906a4",
   "metadata": {},
   "source": [
    "### Arithmetic Expression Examples\n",
    "Below are a few examples of evaluating arithmetic expressions in Python.\n"
   ]
  },
  {
   "cell_type": "markdown",
   "id": "0434dffd-b0f8-4bc4-85c6-e3edaa58b2b7",
   "metadata": {},
   "source": [
    "# This is a simple arithmetic expression to multiply then add integers\n",
    "(3 * 4) + 5\n"
   ]
  },
  {
   "cell_type": "markdown",
   "id": "93b2499a-2b9e-4b5d-afc8-3d7e184d1918",
   "metadata": {},
   "source": [
    "# This will convert 200 minutes to hours by dividing by 60\n",
    "200 / 60\n"
   ]
  },
  {
   "cell_type": "markdown",
   "id": "29f6fbc4-bb08-41d6-ab2d-1c66a40294dc",
   "metadata": {},
   "source": [
    "**Objectives:**\n",
    "- List popular languages for Data Science\n",
    "- List commonly used libraries in Data Science\n",
    "- Create markdown cells in Jupyter Notebook\n",
    "- Evaluate arithmetic expressions in Python\n",
    "- Understand development environment tools for Data Science\n"
   ]
  },
  {
   "cell_type": "markdown",
   "id": "72a1b068-4372-4d3d-ac19-9c2d0942eb96",
   "metadata": {},
   "source": [
    "## Author\n",
    "Pavan Gadepalli\n"
   ]
  }
 ],
 "metadata": {
  "kernelspec": {
   "display_name": "Python 3 (ipykernel)",
   "language": "python",
   "name": "python3"
  },
  "language_info": {
   "codemirror_mode": {
    "name": "ipython",
    "version": 3
   },
   "file_extension": ".py",
   "mimetype": "text/x-python",
   "name": "python",
   "nbconvert_exporter": "python",
   "pygments_lexer": "ipython3",
   "version": "3.11.1"
  }
 },
 "nbformat": 4,
 "nbformat_minor": 5
}
